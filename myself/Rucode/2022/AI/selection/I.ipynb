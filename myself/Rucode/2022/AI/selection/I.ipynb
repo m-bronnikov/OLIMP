{
 "cells": [
  {
   "cell_type": "code",
   "execution_count": 1,
   "metadata": {},
   "outputs": [],
   "source": [
    "import numpy as np\n",
    "import keras_nlp\n",
    "import tensorflow as tf\n",
    "from tensorflow import keras"
   ]
  },
  {
   "cell_type": "code",
   "execution_count": 2,
   "metadata": {},
   "outputs": [],
   "source": [
    "seq_length = 128\n",
    "vocab_size = 1024\n",
    "embed_dim = 64\n",
    "\n",
    "inputs = keras.Input(shape=(seq_length,))\n",
    "\n",
    "token_embeddings = keras.layers.Embedding(\n",
    "    input_dim=vocab_size, output_dim=embed_dim\n",
    ")(inputs)\n",
    "\n",
    "position_embeddings = keras_nlp.layers.PositionEmbedding(\n",
    "    sequence_length=seq_length\n",
    ")(token_embeddings)\n",
    "\n",
    "mh_input = token_embeddings + position_embeddings\n",
    "\n",
    "num_heads=16\n",
    "mh_output = tf.keras.layers.MultiHeadAttention(num_heads=16, key_dim=embed_dim//num_heads, use_bias=False)(mh_input, mh_input)\n",
    "\n",
    "output = tf.keras.layers.Dense(10, use_bias=True)(mh_output)"
   ]
  },
  {
   "cell_type": "code",
   "execution_count": 3,
   "metadata": {},
   "outputs": [
    {
     "name": "stdout",
     "output_type": "stream",
     "text": [
      "Model: \"model\"\n",
      "__________________________________________________________________________________________________\n",
      "Layer (type)                    Output Shape         Param #     Connected to                     \n",
      "==================================================================================================\n",
      "input_1 (InputLayer)            [(None, 128)]        0                                            \n",
      "__________________________________________________________________________________________________\n",
      "embedding (Embedding)           (None, 128, 64)      65536       input_1[0][0]                    \n",
      "__________________________________________________________________________________________________\n",
      "position_embedding (PositionEmb (None, 128, 64)      8192        embedding[0][0]                  \n",
      "__________________________________________________________________________________________________\n",
      "tf.__operators__.add (TFOpLambd (None, 128, 64)      0           embedding[0][0]                  \n",
      "                                                                 position_embedding[0][0]         \n",
      "__________________________________________________________________________________________________\n",
      "multi_head_attention (MultiHead (None, 128, 64)      16384       tf.__operators__.add[0][0]       \n",
      "                                                                 tf.__operators__.add[0][0]       \n",
      "__________________________________________________________________________________________________\n",
      "dense (Dense)                   (None, 128, 10)      650         multi_head_attention[0][0]       \n",
      "==================================================================================================\n",
      "Total params: 90,762\n",
      "Trainable params: 90,762\n",
      "Non-trainable params: 0\n",
      "__________________________________________________________________________________________________\n",
      "None\n"
     ]
    }
   ],
   "source": [
    "model = tf.keras.Model(inputs=inputs, outputs=output)\n",
    "print(model.summary())"
   ]
  }
 ],
 "metadata": {
  "kernelspec": {
   "display_name": "Python 3",
   "language": "python",
   "name": "python3"
  },
  "language_info": {
   "codemirror_mode": {
    "name": "ipython",
    "version": 3
   },
   "file_extension": ".py",
   "mimetype": "text/x-python",
   "name": "python",
   "nbconvert_exporter": "python",
   "pygments_lexer": "ipython3",
   "version": "3.6.9"
  }
 },
 "nbformat": 4,
 "nbformat_minor": 4
}
