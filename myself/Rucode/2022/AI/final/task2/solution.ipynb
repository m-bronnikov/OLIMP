{
  "nbformat": 4,
  "nbformat_minor": 0,
  "metadata": {
    "colab": {
      "private_outputs": true,
      "provenance": []
    },
    "kernelspec": {
      "name": "python3",
      "display_name": "Python 3"
    },
    "language_info": {
      "name": "python"
    }
  },
  "cells": [
    {
      "cell_type": "markdown",
      "source": [
        "Imports of modules to work with data."
      ],
      "metadata": {
        "id": "O1dikRDXRgln"
      }
    },
    {
      "cell_type": "code",
      "source": [
        "import numpy as np\n",
        "import pandas as pd"
      ],
      "metadata": {
        "id": "q4q28HXXEmdT"
      },
      "execution_count": null,
      "outputs": []
    },
    {
      "cell_type": "markdown",
      "source": [
        "Extract and load training dataset"
      ],
      "metadata": {
        "id": "rlq9Ix_XRt48"
      }
    },
    {
      "cell_type": "code",
      "source": [
        "ans_df = pd.DataFrame(test_df)\n",
        "ans_df.to_csv('submit.csv', index=False, header=False)\n",
        "ans_df.head()"
      ],
      "metadata": {
        "id": "UqrlEMok-ytA"
      },
      "execution_count": null,
      "outputs": []
    },
    {
      "cell_type": "code",
      "source": [
        "spl_df = pd.read_csv('submit.csv')\n",
        "spl_df.sample(5)"
      ],
      "metadata": {
        "id": "f3Xqsd0O-ypD"
      },
      "execution_count": null,
      "outputs": []
    }
  ]
}